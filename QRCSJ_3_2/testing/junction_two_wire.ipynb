{
 "cells": [
  {
   "cell_type": "code",
   "execution_count": 1,
   "metadata": {},
   "outputs": [],
   "source": [
    "import sys\n",
    "sys.path.insert(0, '../') # add the parent directory of components to sys.path\n",
    "\n",
    "\n",
    "import importlib\n",
    "\n",
    "\n",
    "from components import junction\n",
    "importlib.reload(junction)\n",
    "from components.junction import JJ, JJParams\n",
    "\n",
    "from components import junction_two_wire\n",
    "importlib.reload(junction_two_wire)\n",
    "from components.junction_two_wire import JJ2Wire, PadParams\n",
    "\n",
    "from phidl import quickplot as qp"
   ]
  },
  {
   "cell_type": "code",
   "execution_count": 2,
   "metadata": {},
   "outputs": [
    {
     "ename": "TypeError",
     "evalue": "JJ2Wire.generate_junction_two_wire() missing 1 required positional argument: 'writefield_params'",
     "output_type": "error",
     "traceback": [
      "\u001b[1;31m---------------------------------------------------------------------------\u001b[0m",
      "\u001b[1;31mTypeError\u001b[0m                                 Traceback (most recent call last)",
      "Cell \u001b[1;32mIn[2], line 6\u001b[0m\n\u001b[0;32m      3\u001b[0m jj_params \u001b[38;5;241m=\u001b[39m JJParams()\n\u001b[0;32m      4\u001b[0m pad_params \u001b[38;5;241m=\u001b[39m PadParams()\n\u001b[1;32m----> 6\u001b[0m \u001b[43mjj_two_wire\u001b[49m\u001b[38;5;241;43m.\u001b[39;49m\u001b[43mgenerate_junction_two_wire\u001b[49m\u001b[43m(\u001b[49m\u001b[43mjj_params\u001b[49m\u001b[43m,\u001b[49m\u001b[43m \u001b[49m\u001b[43mpad_params\u001b[49m\u001b[43m)\u001b[49m\n\u001b[0;32m      8\u001b[0m qp(jj_two_wire\u001b[38;5;241m.\u001b[39mdevice)\n\u001b[0;32m      9\u001b[0m qp(jj_two_wire\u001b[38;5;241m.\u001b[39mtop_pad)\n",
      "\u001b[1;31mTypeError\u001b[0m: JJ2Wire.generate_junction_two_wire() missing 1 required positional argument: 'writefield_params'"
     ]
    }
   ],
   "source": [
    "jj_two_wire = JJ2Wire()\n",
    "\n",
    "jj_params = JJParams()\n",
    "pad_params = PadParams()\n",
    "\n",
    "jj_two_wire.generate_junction_two_wire(jj_params, pad_params)\n",
    "\n",
    "qp(jj_two_wire.device)\n",
    "qp(jj_two_wire.top_pad)"
   ]
  },
  {
   "cell_type": "code",
   "execution_count": 31,
   "metadata": {},
   "outputs": [
    {
     "data": {
      "text/plain": [
       "'Component_Junction_Two_Wire.gds'"
      ]
     },
     "execution_count": 31,
     "metadata": {},
     "output_type": "execute_result"
    }
   ],
   "source": [
    "jj_two_wire.device.write_gds('Component_Junction_Two_Wire.gds')"
   ]
  },
  {
   "cell_type": "code",
   "execution_count": null,
   "metadata": {},
   "outputs": [],
   "source": []
  }
 ],
 "metadata": {
  "kernelspec": {
   "display_name": "phidl",
   "language": "python",
   "name": "python3"
  },
  "language_info": {
   "codemirror_mode": {
    "name": "ipython",
    "version": 3
   },
   "file_extension": ".py",
   "mimetype": "text/x-python",
   "name": "python",
   "nbconvert_exporter": "python",
   "pygments_lexer": "ipython3",
   "version": "3.10.6"
  }
 },
 "nbformat": 4,
 "nbformat_minor": 2
}
